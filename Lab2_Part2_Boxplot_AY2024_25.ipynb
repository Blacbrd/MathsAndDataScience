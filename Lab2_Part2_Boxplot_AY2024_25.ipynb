{
  "cells": [
    {
      "cell_type": "markdown",
      "metadata": {
        "id": "K023tth4hGF0"
      },
      "source": [
        "<h1>Number of Students by Higher Education provider</h1>\n",
        "<h1>Part 2. Boxplot</h1>\n",
        "<p>In these notes we look at creating box plots based on the csv files created in the previous exercise.</p>\n",
        "<p>A boxplot is a standardized way of displaying the distribution of data based on a five number summary (\"minimum\", first quartile (Q1), median, third quartile (Q3), and \"maximum\"). It can tell you about your outliers and what their values are. It can also tell you if your data is symmetrical, how tightly your data is grouped, and if and how your data is skewed.</p>"
      ]
    },
    {
      "cell_type": "markdown",
      "metadata": {
        "id": "Xk90B7eHhGF2"
      },
      "source": [
        "<h2>Exercise 1. Import PANDAs and Matplotlib.pylot</h2>\n",
        "<p>You will be using the pandas dataframe to store the data and Matplotlib pyplot to plot the data.  Import the necessary libraries</h2>"
      ]
    },
    {
      "cell_type": "code",
      "execution_count": 1,
      "metadata": {
        "id": "17PI2m1GhGF2"
      },
      "outputs": [],
      "source": [
        "import pandas as pd\n",
        "import matplotlib as plt"
      ]
    },
    {
      "cell_type": "markdown",
      "metadata": {
        "id": "3_L5TuilhGF3"
      },
      "source": [
        "<h2>Exercise 2. Read the data into a PANDAs DataFrame</h2>\n",
        "<p>Read the 'nireland.csv' in to a data frame called df, use the head method to output the first 4 rows of the datafile so that the structure of the dataframe can be explored.</p>"
      ]
    },
    {
      "cell_type": "code",
      "execution_count": null,
      "metadata": {
        "id": "qzfE0tqxhGF3"
      },
      "outputs": [],
      "source": []
    },
    {
      "cell_type": "markdown",
      "metadata": {
        "id": "0sVvU175hGF3"
      },
      "source": [
        "<h2>Exercise 3. Create two Lists</h2>\n",
        "<p>Create two lists objects named male and female.  Copy the data from the relevant columns of the DataFrame into the list objects (we could skip this part but it will make the construction of the box plots slightly easier). </p>"
      ]
    },
    {
      "cell_type": "code",
      "execution_count": null,
      "metadata": {
        "id": "JSfwHF21hGF3"
      },
      "outputs": [],
      "source": []
    },
    {
      "cell_type": "markdown",
      "metadata": {
        "id": "Zq9lgyadhGF3"
      },
      "source": [
        "<h2>Exercise 4. Create a Box Plot</h2>\n",
        "<p>Create a Box plot for the lists that represent both male and female students studying an undergraduate degree in Northern Ireland.  Add the following features to the plot:\n",
        "<ul>\n",
        "<li>Title of Male vs Female</li>\n",
        "<li>x-axis named Male and Female for each box plot</li>\n",
        "<li>With a grid</li>\n",
        "</ul>\n",
        "</p>"
      ]
    },
    {
      "cell_type": "code",
      "execution_count": null,
      "metadata": {
        "id": "OYwEE8QvhGF3"
      },
      "outputs": [],
      "source": []
    },
    {
      "cell_type": "markdown",
      "metadata": {
        "id": "juU4cvVIhGF4"
      },
      "source": [
        "<h3> Fill in: What the Plot tells you</h3>\n",
        "<p>Based on your plot, what can you summarise about the data?</p>"
      ]
    },
    {
      "cell_type": "markdown",
      "metadata": {
        "id": "j7lrYU-VhGF4"
      },
      "source": [
        "<h2>Exercise 5. Box Plot for Wales</h2>\n",
        "<p>Create a Box plot for the lists that represent both male and female students studying an undergraduate degree in Wales.\n",
        "</p>"
      ]
    },
    {
      "cell_type": "code",
      "execution_count": null,
      "metadata": {
        "id": "tcTiGzpKhGF4"
      },
      "outputs": [],
      "source": []
    },
    {
      "cell_type": "markdown",
      "metadata": {
        "id": "cOrY2W_2hGF4"
      },
      "source": [
        "<h2>Exercise 6. Box Plot for Scotland</h2>\n",
        "<p>Create a Box plot for the lists that represent both male and female students studying an undergraduate degree in Scotland.\n",
        "</p>"
      ]
    },
    {
      "cell_type": "code",
      "execution_count": null,
      "metadata": {
        "id": "L1f8zDd7hGF4"
      },
      "outputs": [],
      "source": []
    },
    {
      "cell_type": "markdown",
      "metadata": {
        "id": "JMpzM79phGF4"
      },
      "source": [
        "<h2>Exercise 7. Box Plot for England</h2>\n",
        "<p>Create a Box plot for the lists that represent both male and female students studying an undergraduate degree in England.\n",
        "</p>"
      ]
    },
    {
      "cell_type": "code",
      "execution_count": null,
      "metadata": {
        "id": "vYHkWSXkhGF4"
      },
      "outputs": [],
      "source": []
    },
    {
      "cell_type": "markdown",
      "metadata": {
        "id": "sL_jGcFYhGF4"
      },
      "source": [
        "<h2>Exercise 8. Box Plot for Females (all Countries)</h2>\n",
        "<p>Create a Box plot for the lists that represent female students studying an undergraduate degree in England, Wales, Scotland and Northern Ireland.\n",
        "</p>"
      ]
    },
    {
      "cell_type": "code",
      "execution_count": null,
      "metadata": {
        "id": "8mBJlMQghGF4"
      },
      "outputs": [],
      "source": []
    },
    {
      "cell_type": "markdown",
      "metadata": {
        "id": "OHOzmJIRhGF5"
      },
      "source": [
        "<h2>Exercise 9. Box Plot for Males (all Countries)</h2>\n",
        "<p>Create a Box plot for the lists that represent male students studying an undergraduate degree in England, Wales, Scotland and Northern Ireland.\n",
        "</p>"
      ]
    },
    {
      "cell_type": "code",
      "execution_count": null,
      "metadata": {
        "id": "1AdhPIXKhGF5"
      },
      "outputs": [],
      "source": []
    },
    {
      "cell_type": "markdown",
      "metadata": {
        "id": "AWbmOLffhGF5"
      },
      "source": [
        "<h2>Exercise 10. Answer to the questions: </h2>\n",
        "<p>What is the median value (approx) for England?</p>\n",
        "<p>What does the median value represent?</p>\n",
        "<p>What does the interquartile range represent?</p>\n",
        "<p>What does the upper and lower quartiles represent?</p>\n",
        "<p>What do the whiskers represent?</p>\n",
        "<p>"
      ]
    },
    {
      "cell_type": "code",
      "execution_count": null,
      "metadata": {
        "id": "QPly6xomk-8_"
      },
      "outputs": [],
      "source": []
    }
  ],
  "metadata": {
    "colab": {
      "provenance": []
    },
    "kernelspec": {
      "display_name": "Python 3",
      "language": "python",
      "name": "python3"
    },
    "language_info": {
      "codemirror_mode": {
        "name": "ipython",
        "version": 3
      },
      "file_extension": ".py",
      "mimetype": "text/x-python",
      "name": "python",
      "nbconvert_exporter": "python",
      "pygments_lexer": "ipython3",
      "version": "3.12.6"
    },
    "latex_envs": {
      "LaTeX_envs_menu_present": true,
      "autoclose": false,
      "autocomplete": true,
      "bibliofile": "biblio.bib",
      "cite_by": "apalike",
      "current_citInitial": 1,
      "eqLabelWithNumbers": true,
      "eqNumInitial": 1,
      "hotkeys": {
        "equation": "Ctrl-E",
        "itemize": "Ctrl-I"
      },
      "labels_anchors": false,
      "latex_user_defs": false,
      "report_style_numbering": false,
      "user_envs_cfg": false
    }
  },
  "nbformat": 4,
  "nbformat_minor": 0
}
